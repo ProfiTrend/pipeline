{
 "cells": [
  {
   "cell_type": "code",
   "execution_count": 1,
   "id": "1df580fb",
   "metadata": {},
   "outputs": [],
   "source": [
    "#Загрузка необходимых библиотек\n",
    "import pandas as pd\n",
    "import seaborn as sns\n",
    "import numpy as np\n",
    "import matplotlib.pyplot as plt\n",
    "import ipywidgets as widgets\n",
    "from ipywidgets import interact, interact_manual"
   ]
  },
  {
   "cell_type": "code",
   "execution_count": 2,
   "id": "3176df75",
   "metadata": {},
   "outputs": [
    {
     "name": "stdout",
     "output_type": "stream",
     "text": [
      "Данные загруженны и обработаны \n"
     ]
    },
    {
     "name": "stderr",
     "output_type": "stream",
     "text": [
      "C:\\Users\\ProfiTrend\\AppData\\Local\\Programs\\Python\\Python310\\lib\\site-packages\\IPython\\core\\interactiveshell.py:3457: FutureWarning: The error_bad_lines argument has been deprecated and will be removed in a future version.\n",
      "\n",
      "\n",
      "  exec(code_obj, self.user_global_ns, self.user_ns)\n"
     ]
    }
   ],
   "source": [
    "\n",
    "# Загрузка данных, удаление лишних данных по всем 3 выборкам\n",
    "try:\n",
    "    df1=pd.read_csv('SOP1.dat',delimiter=' ',encoding='windows-1250',header=None,error_bad_lines=False)\n",
    "\n",
    "    df2=pd.read_csv('SOP2.dat',delimiter=' ',encoding='windows-1250',header=None,error_bad_lines=False)\n",
    "    df3=pd.read_csv('SOP3.dat',delimiter=' ',encoding='windows-1250',header=None,error_bad_lines=False)\n",
    "except:\n",
    "    print('Данные не загрузились ')\n",
    "\n",
    "try:  \n",
    "    df1=df1.drop([0,0]) # удаление технической строки\n",
    "    df1=df1.drop(columns=[17,0]) # удаление лишних столбцов,   расстояние мм будет индекс\n",
    "    df2=df2.drop([0,0]) # удаление технической строки\n",
    "    df2=df2.drop(columns=[17,0])  # удаление лишних столбцов,   расстояние мм будет индекс \n",
    "    df3=df3.drop([0,0]) # удаление технической строки\n",
    "    df3=df3.drop(columns=[17,0])# удаление лишних столбцов,   расстояние мм будет индекс\n",
    "    df1=df1.astype(\"float32\")# приводим данные к float\n",
    "    df2=df2.astype(\"float32\")# приводим данные к float\n",
    "    df3=df3.astype(\"float32\")# приводим данные к float\n",
    "except:\n",
    "    print('Данные не обработались ')\n",
    "\n",
    "print('Данные загруженны и обработаны ')\n",
    "    "
   ]
  },
  {
   "cell_type": "code",
   "execution_count": null,
   "id": "1def9b72",
   "metadata": {},
   "outputs": [],
   "source": []
  }
 ],
 "metadata": {
  "kernelspec": {
   "display_name": "Python 3 (ipykernel)",
   "language": "python",
   "name": "python3"
  },
  "language_info": {
   "codemirror_mode": {
    "name": "ipython",
    "version": 3
   },
   "file_extension": ".py",
   "mimetype": "text/x-python",
   "name": "python",
   "nbconvert_exporter": "python",
   "pygments_lexer": "ipython3",
   "version": "3.10.1"
  }
 },
 "nbformat": 4,
 "nbformat_minor": 5
}
