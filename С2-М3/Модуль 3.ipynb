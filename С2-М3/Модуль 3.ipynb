{
 "cells": [
  {
   "cell_type": "code",
   "execution_count": 1,
   "id": "7b9d90e3",
   "metadata": {},
   "outputs": [],
   "source": [
    "#Загрузка необходимых библиотек\n",
    "import pandas as pd\n",
    "import seaborn as sns\n",
    "import numpy as np\n",
    "%matplotlib notebook\n",
    "import matplotlib.pyplot as plt"
   ]
  },
  {
   "cell_type": "code",
   "execution_count": 2,
   "id": "ea672c42",
   "metadata": {},
   "outputs": [
    {
     "name": "stdout",
     "output_type": "stream",
     "text": [
      "Данные загруженны \n",
      "Данные  обработаны \n"
     ]
    },
    {
     "name": "stderr",
     "output_type": "stream",
     "text": [
      "C:\\Users\\tai-sku\\AppData\\Local\\Programs\\Python\\Python310\\lib\\site-packages\\IPython\\core\\interactiveshell.py:3457: FutureWarning: The error_bad_lines argument has been deprecated and will be removed in a future version.\n",
      "\n",
      "\n",
      "  exec(code_obj, self.user_global_ns, self.user_ns)\n"
     ]
    }
   ],
   "source": [
    "# Загрузка данных, удаление лишних данных по всем 3 выборкам\n",
    "column=['0takt','1takt','2takt','3takt','4takt','5takt','6takt','7takt','8takt',\n",
    "                          '9takt','10takt','11takt','12takt','13takt','14takt','15takt','16takt','17takt']\n",
    "try:\n",
    "    df1=pd.read_csv('SOP1.dat',delimiter=' ',encoding='windows-1250',header=None,error_bad_lines=False)\n",
    "\n",
    "    df2=pd.read_csv('SOP2.dat',delimiter=' ',encoding='windows-1250',header=None,error_bad_lines=False)\n",
    "    df3=pd.read_csv('SOP3.dat',delimiter=' ',encoding='windows-1250',header=None,error_bad_lines=False)\n",
    "    print('Данные загруженны ')\n",
    "except:\n",
    "    print('Данные не загрузились ')\n",
    "\n",
    "try:  \n",
    "    df1=df1.drop([0,0]) # удаление технической строки\n",
    "    df1=df1.drop(columns=[17,0]) # удаление лишних столбцов,   расстояние мм будет индекс\n",
    "    df2=df2.drop([0,0]) # удаление технической строки\n",
    "    df2=df2.drop(columns=[17,0])  # удаление лишних столбцов,   расстояние мм будет индекс \n",
    "    df3=df3.drop([0,0]) # удаление технической строки\n",
    "    df3=df3.drop(columns=[17,0])# удаление лишних столбцов,   расстояние мм будет индекс\n",
    "    df1=df1.astype(\"float32\")# приводим данные к float\n",
    "    df2=df2.astype(\"float32\")# приводим данные к float\n",
    "    df3=df3.astype(\"float32\")# приводим данные к float\n",
    "    print('Данные  обработаны ')\n",
    "except:\n",
    "    print('Данные не обработались ')\n",
    "\n"
   ]
  },
  {
   "cell_type": "raw",
   "id": "fcdb674c",
   "metadata": {},
   "source": [
    "Такты\n",
    "1 хордовая,эхо,сторона А\n",
    "\n",
    "2 хордовая, эхо, сторона Б\n",
    "3 хордовая, РС сторона А\n",
    "4 хордовая РС  сторона Б\n",
    "5 теневая от 4 Б\n",
    "6 теневая от 3 А\n",
    "7 поперечн дефф,хорд А\n",
    "8 поперечн дефф.хорд Б\n",
    "\n",
    "9 эхо конт 3 А\n",
    "10 эко конт 4 Б\n",
    "11 эхо конт 1 А\n",
    "12 эхо конт 2 Б\n",
    "\n",
    "13 тенев коррел с 14\n",
    "14 тенев\n",
    "\n",
    "15 эхо контакт поперечн 7 А\n",
    "16 эко контакт поперечн 8 Б\n",
    "\n",
    "Положит корреляция\n",
    "7,8,15,16 высокая положительная корреляция эхо поперечн деффект\n",
    "1-11 эхо и эхо конт\n",
    "2-12 эхо и эхо конт\n",
    "3-9 эхо и эхо конт\n",
    "4-10 эхо и эхо конт\n",
    "13-14 теневые прообиваются \n",
    "5-6 теневые прообиваются \n",
    "\n",
    "Отриц корреляц\n",
    "2-14 эхо и тепевой\n",
    "3-5 эхо и теневой\n",
    "3-6 эхо и теневой\n",
    "5-9 тенев к эхо\n",
    "5-10 тенев к эхо\n",
    "6-9 тенев к эхо\n",
    "10-14 тенев к эхо\n",
    "12-14 тенев к эхо\n"
   ]
  },
  {
   "cell_type": "markdown",
   "id": "3805512c",
   "metadata": {},
   "source": [
    "# Приведение к одной координате"
   ]
  },
  {
   "cell_type": "code",
   "execution_count": 3,
   "id": "db3867c9",
   "metadata": {},
   "outputs": [],
   "source": [
    "df11=df1.copy()\n",
    "\n",
    "#Приведение к общей координате\n",
    "for n in range(1,17):\n",
    "    df11[n]=np.roll(df11[n],-50)\n",
    "    \n",
    "for p in [3,4,5,6,9,10]:\n",
    "    df11[n]=np.roll(df11[n],95)\n",
    "    \n",
    "for n in range(1,17):\n",
    "    df11[n]=np.roll(df11[n],-95)\n",
    "    \n",
    "#Создание датафреймов по стороне и по типу деффекта    \n",
    "df11A=df11[[1,11,13,3,9,5]].copy()\n",
    "df11B=df11[[2,12,14,4,10,6]].copy()\n",
    "df11P=df11[[7,8,15,16]].copy()"
   ]
  },
  {
   "cell_type": "code",
   "execution_count": null,
   "id": "d440381d",
   "metadata": {},
   "outputs": [],
   "source": [
    "df11.plot.line(subplots=True)"
   ]
  },
  {
   "cell_type": "code",
   "execution_count": null,
   "id": "58fe14a4",
   "metadata": {},
   "outputs": [],
   "source": [
    "#Выбор переменных для определения неспллошности на стороне А,В и Р -  и создание датафрейма\n",
    "\n",
    "df11A.plot.line(subplots=True)"
   ]
  },
  {
   "cell_type": "code",
   "execution_count": null,
   "id": "e857452f",
   "metadata": {},
   "outputs": [],
   "source": [
    "\n",
    "df11B.plot.line(subplots=True)"
   ]
  },
  {
   "cell_type": "code",
   "execution_count": null,
   "id": "74bfa645",
   "metadata": {},
   "outputs": [],
   "source": [
    "\n",
    "df11P.plot.line(subplots=True)"
   ]
  },
  {
   "cell_type": "code",
   "execution_count": null,
   "id": "473564cb",
   "metadata": {},
   "outputs": [],
   "source": []
  },
  {
   "cell_type": "markdown",
   "id": "028c260b",
   "metadata": {},
   "source": [
    "# Добавим целевой вектор"
   ]
  },
  {
   "cell_type": "code",
   "execution_count": 8,
   "id": "56ddf8b0",
   "metadata": {},
   "outputs": [
    {
     "data": {
      "text/html": [
       "<div>\n",
       "<style scoped>\n",
       "    .dataframe tbody tr th:only-of-type {\n",
       "        vertical-align: middle;\n",
       "    }\n",
       "\n",
       "    .dataframe tbody tr th {\n",
       "        vertical-align: top;\n",
       "    }\n",
       "\n",
       "    .dataframe thead th {\n",
       "        text-align: right;\n",
       "    }\n",
       "</style>\n",
       "<table border=\"1\" class=\"dataframe\">\n",
       "  <thead>\n",
       "    <tr style=\"text-align: right;\">\n",
       "      <th></th>\n",
       "      <th>Начало дефекта</th>\n",
       "      <th>Длина дефекта</th>\n",
       "      <th>Высота дефекта</th>\n",
       "      <th>Тип дефекта</th>\n",
       "      <th>Сторона</th>\n",
       "    </tr>\n",
       "  </thead>\n",
       "  <tbody>\n",
       "    <tr>\n",
       "      <th>0</th>\n",
       "      <td>51</td>\n",
       "      <td>42.0</td>\n",
       "      <td>7</td>\n",
       "      <td>L</td>\n",
       "      <td>A</td>\n",
       "    </tr>\n",
       "    <tr>\n",
       "      <th>1</th>\n",
       "      <td>200</td>\n",
       "      <td>40.0</td>\n",
       "      <td>6</td>\n",
       "      <td>L</td>\n",
       "      <td>B</td>\n",
       "    </tr>\n",
       "    <tr>\n",
       "      <th>2</th>\n",
       "      <td>278</td>\n",
       "      <td>39.0</td>\n",
       "      <td>4</td>\n",
       "      <td>L</td>\n",
       "      <td>A</td>\n",
       "    </tr>\n",
       "    <tr>\n",
       "      <th>3</th>\n",
       "      <td>365</td>\n",
       "      <td>43.0</td>\n",
       "      <td>6</td>\n",
       "      <td>L</td>\n",
       "      <td>B</td>\n",
       "    </tr>\n",
       "    <tr>\n",
       "      <th>4</th>\n",
       "      <td>460</td>\n",
       "      <td>27.0</td>\n",
       "      <td>5</td>\n",
       "      <td>L</td>\n",
       "      <td>A</td>\n",
       "    </tr>\n",
       "    <tr>\n",
       "      <th>5</th>\n",
       "      <td>845</td>\n",
       "      <td>36.0</td>\n",
       "      <td>4</td>\n",
       "      <td>L</td>\n",
       "      <td>B</td>\n",
       "    </tr>\n",
       "    <tr>\n",
       "      <th>6</th>\n",
       "      <td>959</td>\n",
       "      <td>62.0</td>\n",
       "      <td>6</td>\n",
       "      <td>L</td>\n",
       "      <td>A</td>\n",
       "    </tr>\n",
       "    <tr>\n",
       "      <th>7</th>\n",
       "      <td>141</td>\n",
       "      <td>0.0</td>\n",
       "      <td>4</td>\n",
       "      <td>T</td>\n",
       "      <td></td>\n",
       "    </tr>\n",
       "  </tbody>\n",
       "</table>\n",
       "</div>"
      ],
      "text/plain": [
       "   Начало дефекта  Длина дефекта  Высота дефекта Тип дефекта Сторона\n",
       "0              51           42.0               7           L       A\n",
       "1             200           40.0               6           L       B\n",
       "2             278           39.0               4           L       A\n",
       "3             365           43.0               6           L       B\n",
       "4             460           27.0               5           L       A\n",
       "5             845           36.0               4           L       B\n",
       "6             959           62.0               6           L       A\n",
       "7             141            0.0               4           T        "
      ]
     },
     "execution_count": 8,
     "metadata": {},
     "output_type": "execute_result"
    }
   ],
   "source": [
    "#Загрузка файла с целевой переменной\n",
    "targ=pd.read_table('target1.csv',sep=',')\n",
    "targ\n",
    "targ.fillna(0)"
   ]
  },
  {
   "cell_type": "code",
   "execution_count": null,
   "id": "9b821920",
   "metadata": {},
   "outputs": [],
   "source": [
    "# создадим вектор целевой\n",
    "df11A['targ']=0\n",
    "df11B['targ']=0\n",
    "df11P['targ']=0"
   ]
  },
  {
   "cell_type": "code",
   "execution_count": null,
   "id": "1b5ec0a7",
   "metadata": {},
   "outputs": [],
   "source": [
    "#Добавим значение целевого вектора в каждом датафрейме\n",
    "for n in range(len(targ)):\n",
    "    if targ['Сторона'][n]=='A':\n",
    "        df11A.targ[targ['Начало дефекта'][n]-1:(targ['Начало дефекта'][n]-1+int(targ['Длина дефекта'][n]))]=1\n",
    "    if targ['Сторона'][n]=='B':\n",
    "        df11B.targ[targ['Начало дефекта'][n]-1:(targ['Начало дефекта'][n]-1+int(targ['Длина дефекта'][n]))]=1  \n",
    "    if targ['Тип дефекта'][n]=='T':\n",
    "        df11P.targ[targ['Начало дефекта'][n]-1:(targ['Начало дефекта'][n])]=1"
   ]
  },
  {
   "cell_type": "code",
   "execution_count": null,
   "id": "e715169a",
   "metadata": {},
   "outputs": [],
   "source": [
    "df11B.plot.line(subplots=True)"
   ]
  },
  {
   "cell_type": "code",
   "execution_count": null,
   "id": "31dc8dbe",
   "metadata": {},
   "outputs": [],
   "source": []
  },
  {
   "cell_type": "code",
   "execution_count": null,
   "id": "224e7979",
   "metadata": {},
   "outputs": [],
   "source": [
    "#Сделаем в датафрейме общем разбитие на классы в соответствии с имеющимся таргетом\n",
    "df11['deffect']=0\n",
    "for n in range(len(targ)):\n",
    "    if targ['Сторона'][n]=='A':\n",
    "        df11.deffect[targ['Начало дефекта'][n]-1:(targ['Начало дефекта'][n]-1+int(targ['Длина дефекта'][n]))]=1\n",
    "    if targ['Сторона'][n]=='B':\n",
    "        df11.deffect[targ['Начало дефекта'][n]-1:(targ['Начало дефекта'][n]-1+int(targ['Длина дефекта'][n]))]=2  \n",
    "    if targ['Тип дефекта'][n]=='T':\n",
    "        df11.deffect[targ['Начало дефекта'][n]-1:(targ['Начало дефекта'][n])]=3"
   ]
  },
  {
   "cell_type": "code",
   "execution_count": null,
   "id": "7dd0a551",
   "metadata": {},
   "outputs": [],
   "source": [
    "df11.plot.line(subplots=True)"
   ]
  },
  {
   "cell_type": "markdown",
   "id": "23e0726e",
   "metadata": {},
   "source": [
    "# Подберем алгоритм кластеризации и сравним результаты кластеризации с таргетом"
   ]
  },
  {
   "cell_type": "code",
   "execution_count": null,
   "id": "9dc1f342",
   "metadata": {},
   "outputs": [],
   "source": [
    "df11.plot.line(subplots=True)"
   ]
  },
  {
   "cell_type": "code",
   "execution_count": null,
   "id": "40ec291c",
   "metadata": {},
   "outputs": [],
   "source": [
    "from sklearn import cluster as cl\n",
    "from sklearn.preprocessing import StandardScaler"
   ]
  },
  {
   "cell_type": "code",
   "execution_count": null,
   "id": "ca11689a",
   "metadata": {},
   "outputs": [],
   "source": [
    "SC=StandardScaler()"
   ]
  },
  {
   "cell_type": "code",
   "execution_count": null,
   "id": "32ebb333",
   "metadata": {},
   "outputs": [],
   "source": [
    "X=SC.fit_transform(df11)"
   ]
  },
  {
   "cell_type": "code",
   "execution_count": null,
   "id": "b2b34085",
   "metadata": {},
   "outputs": [],
   "source": []
  },
  {
   "cell_type": "code",
   "execution_count": null,
   "id": "8f93b24f",
   "metadata": {
    "scrolled": false
   },
   "outputs": [],
   "source": [
    "\n",
    "\n",
    "# создадим пустой список для записи показателя WCSS (нашей ошибки)\n",
    "wcss = []\n",
    "\n",
    "# воспользуемся  функцией range(), она возвращает последовательность чисел\n",
    "# в данном случае числа от 1 до 10\n",
    "for i in range(1, 20):\n",
    "    \n",
    "    # настроим параметры модели (подробнее об этом на сайте)\n",
    "    kmeans = cl.KMeans(n_clusters = i, init = 'k-means++', max_iter = 300, n_init = 10, random_state = 42)\n",
    "\n",
    "    # обучим модель на наших данных с разным количеством кластеров\n",
    "    kmeans.fit(df11)\n",
    "\n",
    "    # для каждого кластера рассчитаем ошибку (атрибут inertia_) и поместим в список\n",
    "    wcss.append(kmeans.inertia_)\n",
    "\n",
    "# зададим размер график\n",
    "plt.figure(figsize = (10,6))\n",
    "# передадим функции plot() последовательность кластеров и ошибку WCSS\n",
    "plt.plot(range(1, 20), wcss)\n",
    "# и добавим подписи\n",
    "plt.title('Выбор количества кластеров методом локтя')\n",
    "plt.xlabel('Количество кластеров')\n",
    "plt.ylabel('WCSS')"
   ]
  },
  {
   "cell_type": "code",
   "execution_count": null,
   "id": "635a661e",
   "metadata": {},
   "outputs": [],
   "source": [
    "#Для метода К-среднее оптимальное количество кластеров 6 или 8"
   ]
  },
  {
   "cell_type": "code",
   "execution_count": null,
   "id": "0bacb885",
   "metadata": {},
   "outputs": [],
   "source": [
    "# Используем несколько алгоритмов кластеризации\n",
    "KM=cl.KMeans(n_clusters=6,  init='k-means++', n_init=10, max_iter=300, \n",
    "          tol=0.0001, verbose=0, random_state=None, copy_x=True, algorithm='auto')\n",
    "DB=cl.DBSCAN(eps=50,  min_samples=5, metric='euclidean', metric_params=None, algorithm='auto', \n",
    "       leaf_size=30, p=None, n_jobs=None)\n",
    "AP=cl.AffinityPropagation( damping=0.5, max_iter=200, convergence_iter=15, copy=True,\n",
    "                    preference=None, affinity='euclidean', verbose=False, random_state=None)\n",
    "\n",
    "AC=cl.AgglomerativeClustering(n_clusters=6,  affinity='euclidean', memory=None, connectivity=None, \n",
    "                        compute_full_tree='auto', linkage='ward', distance_threshold=None, compute_distances=False)\n",
    "\n",
    "OP=cl.OPTICS( min_samples=5, max_eps=50, metric='minkowski', p=2, metric_params=None, cluster_method='xi', \n",
    "       eps=None, xi=0.05, predecessor_correction=True, min_cluster_size=None, algorithm='auto', \n",
    "       leaf_size=30, memory=None, n_jobs=None)\n",
    "\n",
    "df111=df11.copy()\n",
    "df111['KmeansSC']=KM.fit_predict(X)\n",
    "df111['DBSCANSC']=DB.fit_predict(X)\n",
    "df111['APSC']=DB.fit_predict(X)\n",
    "df111['ACSC']=AC.fit_predict(X)\n",
    "df111['OPSC']=OP.fit_predict(X)\n",
    "\n",
    "df111['Kmeans']=KM.fit_predict(df11)\n",
    "df111['DBSCAN']=DB.fit_predict(df11)\n",
    "df111['AP']=AP.fit_predict(df11)\n",
    "df111['AC']=AC.fit_predict(df11)\n",
    "df111['OP']=OP.fit_predict(df11)"
   ]
  },
  {
   "cell_type": "code",
   "execution_count": null,
   "id": "3a10282e",
   "metadata": {},
   "outputs": [],
   "source": []
  },
  {
   "cell_type": "code",
   "execution_count": null,
   "id": "3860ebdc",
   "metadata": {},
   "outputs": [],
   "source": []
  },
  {
   "cell_type": "code",
   "execution_count": null,
   "id": "2fb9d2cb",
   "metadata": {
    "scrolled": false
   },
   "outputs": [],
   "source": [
    "# посмотрим на целевую переменную с помощью точечной диаграммы\n",
    "\n",
    "# зададим размер\n",
    "plt.figure(figsize = (10,6))\n",
    "\n",
    "# возьмем первый и второй столбцы с помощью функции iloc()\n",
    "# параметр с задаст каждой точке определенный код (0, 1, 2), а\n",
    "# camp определит цвет каждой из точек\n",
    "plt.scatter(df111.loc[:,1], df111.loc[:,11], c = df111.targ, cmap = 'Paired')"
   ]
  },
  {
   "cell_type": "code",
   "execution_count": null,
   "id": "9c4e18c2",
   "metadata": {},
   "outputs": [],
   "source": [
    "# матрица рассеяния и гистограммы\n",
    "from pandas.plotting import scatter_matrix\n",
    "scatter_matrix(df11, alpha=0.1);"
   ]
  },
  {
   "cell_type": "code",
   "execution_count": null,
   "id": "1ad672ad",
   "metadata": {
    "scrolled": false
   },
   "outputs": [],
   "source": [
    "df111.plot.line(subplots=True)"
   ]
  },
  {
   "cell_type": "markdown",
   "id": "ec942c75",
   "metadata": {},
   "source": [
    "# Для всех тактов общая класстеризация не очень интуитивна. Cделаем классификацию для каждой стороны и типа деффекта"
   ]
  },
  {
   "cell_type": "code",
   "execution_count": 7,
   "id": "9b3ea15f",
   "metadata": {},
   "outputs": [],
   "source": [
    "df11=df1.copy()\n",
    "\n",
    "#Приведение к общей координате\n",
    "for n in range(1,17):\n",
    "    df11[n]=np.roll(df11[n],-50)\n",
    "    \n",
    "for p in [3,4,5,6,9,10]:\n",
    "    df11[n]=np.roll(df11[n],95)\n",
    "    \n",
    "for n in range(1,17):\n",
    "    df11[n]=np.roll(df11[n],-95)\n",
    "    \n",
    "#Создание датафреймов по стороне и по типу деффекта    \n",
    "df11A=df11[[1,11,13,3,9,5]].copy()\n",
    "df11B=df11[[2,12,14,4,10,6]].copy()\n",
    "df11P=df11[[7,8,15,16]].copy()"
   ]
  },
  {
   "cell_type": "code",
   "execution_count": null,
   "id": "9415e4e9",
   "metadata": {},
   "outputs": [],
   "source": [
    "\n",
    "\n",
    "\n",
    "\n",
    "\n",
    "# создадим пустой список для записи показателя WCSS (нашей ошибки)\n",
    "wcss = []\n",
    "\n",
    "# воспользуемся  функцией range(), она возвращает последовательность чисел\n",
    "# в данном случае числа от 1 до 10\n",
    "for i in range(1, 20):\n",
    "    \n",
    "    # настроим параметры модели (подробнее об этом на сайте)\n",
    "    kmeans = cl.KMeans(n_clusters = i, init = 'k-means++', max_iter = 300, n_init = 10, random_state = 42)\n",
    "\n",
    "    # обучим модель на наших данных с разным количеством кластеров\n",
    "    kmeans.fit(df11A)\n",
    "\n",
    "    # для каждого кластера рассчитаем ошибку (атрибут inertia_) и поместим в список\n",
    "    wcss.append(kmeans.inertia_)\n",
    "\n",
    "# зададим размер график\n",
    "plt.figure(figsize = (10,6))\n",
    "# передадим функции plot() последовательность кластеров и ошибку WCSS\n",
    "plt.plot(range(1, 20), wcss)\n",
    "# и добавим подписи\n",
    "plt.title('Выбор количества кластеров методом локтя')\n",
    "plt.xlabel('Количество кластеров')\n",
    "plt.ylabel('WCSS')"
   ]
  },
  {
   "cell_type": "markdown",
   "id": "c22779a1",
   "metadata": {},
   "source": [
    "Количество кластеров 7 для К среднего"
   ]
  },
  {
   "cell_type": "code",
   "execution_count": null,
   "id": "8eb841b0",
   "metadata": {},
   "outputs": [],
   "source": [
    "X=SC.fit_transform(df11A)\n",
    "X1=df11A\n",
    "# Используем несколько алгоритмов кластеризации\n",
    "KM=cl.KMeans(n_clusters=6,  init='k-means++', n_init=10, max_iter=300, \n",
    "          tol=0.0001, verbose=0, random_state=None, copy_x=True, algorithm='auto')\n",
    "DB=cl.DBSCAN(eps=50,  min_samples=5, metric='euclidean', metric_params=None, algorithm='auto', \n",
    "       leaf_size=30, p=None, n_jobs=None)\n",
    "AP=cl.AffinityPropagation( damping=0.5, max_iter=200, convergence_iter=15, copy=True,\n",
    "                    preference=None, affinity='euclidean', verbose=False, random_state=None)\n",
    "\n",
    "AC=cl.AgglomerativeClustering(n_clusters=6,  affinity='euclidean', memory=None, connectivity=None, \n",
    "                        compute_full_tree='auto', linkage='ward', distance_threshold=None, compute_distances=False)\n",
    "\n",
    "OP=cl.OPTICS( min_samples=5, max_eps=50, metric='minkowski', p=2, metric_params=None, cluster_method='xi', \n",
    "       eps=None, xi=0.05, predecessor_correction=True, min_cluster_size=None, algorithm='auto', \n",
    "       leaf_size=30, memory=None, n_jobs=None)\n",
    "\n",
    "df111A=df11A.copy()\n",
    "df111A['KmeansSC']=KM.fit_predict(X)\n",
    "#df111A['DBSCANSC']=DB.fit_predict(X)\n",
    "#df111A['APSC']=DB.fit_predict(X)\n",
    "df111A['ACSC']=AC.fit_predict(X)\n",
    "df111A['OPSC']=OP.fit_predict(X)\n",
    "\n",
    "df111A['Kmeans']=KM.fit_predict(X1)\n",
    "df111A['DBSCAN']=DB.fit_predict(X1)\n",
    "df111A['AP']=AP.fit_predict(X1)\n",
    "df111A['AC']=AC.fit_predict(X1)\n",
    "df111A['OP']=OP.fit_predict(X1)\n",
    "\n",
    "df111A['targ']=df11A.targ\n",
    "y=df11A.targ\n",
    "#Добавим значение целевого вектора в каждом датафрейме\n",
    "\n",
    "df111A.plot.line(subplots=True)"
   ]
  },
  {
   "cell_type": "code",
   "execution_count": null,
   "id": "ca2f727f",
   "metadata": {},
   "outputs": [],
   "source": []
  },
  {
   "cell_type": "code",
   "execution_count": null,
   "id": "e8a69d42",
   "metadata": {},
   "outputs": [],
   "source": [
    "from sklearn.model_selection import train_test_split\n",
    "from sklearn.model_selection import cross_val_score\n",
    "from sklearn.model_selection import cross_validate\n",
    "from sklearn import metrics\n",
    "\n",
    "X_train, X_test, y_train, y_test = train_test_split(\n",
    "    X, y, test_size=0.4, random_state=50) \n",
    "\n",
    "X_train.shape, y_train.shape\n",
    "X_test.shape, y_test.shape"
   ]
  },
  {
   "cell_type": "raw",
   "id": "c649bd56",
   "metadata": {},
   "source": [
    "Аргументированный выбор модели классификации!\n",
    "\n",
    "Количество элементов в датасете: 1039. \n",
    "Задача мультиклассовой классификации: нет дефекта, есть дефект на стороне А, есть дефект на стороне Б. Сигналы с датчиков сильно зашумлены, поэтому для классификации рассмотрим 3 алгоритма, которые хорошо справляются с выбросами:\n",
    "1. Градиентный бустинг\n",
    "2. Random Forest\n",
    "3. Метод опорных векторов SVM с обучением градиентным спуском (SGD)"
   ]
  },
  {
   "cell_type": "code",
   "execution_count": null,
   "id": "b107ec95",
   "metadata": {},
   "outputs": [],
   "source": []
  },
  {
   "cell_type": "code",
   "execution_count": null,
   "id": "08e27339",
   "metadata": {},
   "outputs": [],
   "source": [
    "from sklearn.ensemble import GradientBoostingClassifier\n",
    "\n",
    "clf = GradientBoostingClassifier(random_state=0).fit(X_train, y_train)\n",
    "y_pred = clf.predict(X_test)\n",
    "\n",
    "#  Метрики качества модели\n",
    "print('Основные метрики качества на test:')\n",
    "print(\"Accuracy: %.2f\" % metrics.accuracy_score(y_pred, y_test))\n",
    "print(\"Precision: %.2f\" % metrics.precision_score(y_pred, y_test, average='macro'))\n",
    "print(\"Recall: %.2f\" % metrics.recall_score(y_pred, y_test, average='macro'))\n",
    "print(\"F1: %.2f\" % metrics.f1_score(y_pred, y_test, average='macro'))\n",
    "print()\n",
    "\n",
    "print('Матрица ошибок:')\n",
    "print(metrics.confusion_matrix(y_pred, y_test))"
   ]
  },
  {
   "cell_type": "code",
   "execution_count": null,
   "id": "bd26ee4b",
   "metadata": {},
   "outputs": [],
   "source": []
  }
 ],
 "metadata": {
  "kernelspec": {
   "display_name": "Python 3 (ipykernel)",
   "language": "python",
   "name": "python3"
  },
  "language_info": {
   "codemirror_mode": {
    "name": "ipython",
    "version": 3
   },
   "file_extension": ".py",
   "mimetype": "text/x-python",
   "name": "python",
   "nbconvert_exporter": "python",
   "pygments_lexer": "ipython3",
   "version": "3.10.2"
  }
 },
 "nbformat": 4,
 "nbformat_minor": 5
}
